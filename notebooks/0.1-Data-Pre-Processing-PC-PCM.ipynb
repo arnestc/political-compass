{
 "cells": [
  {
   "cell_type": "markdown",
   "id": "464ef287",
   "metadata": {},
   "source": [
    "# Data Pre-Processing: `/r/PC` & `/r/PCM`\n",
    "\n",
    "- To replicate: **Figure 2**, **Figure A.1**, **Figure B.3**"
   ]
  },
  {
   "cell_type": "markdown",
   "id": "960ed394",
   "metadata": {},
   "source": [
    "## 0. Load data"
   ]
  },
  {
   "cell_type": "code",
   "execution_count": 1,
   "id": "c5504197",
   "metadata": {},
   "outputs": [],
   "source": [
    "import datetime\n",
    "import joblib\n",
    "import matplotlib as mpl\n",
    "from matplotlib import rc\n",
    "import matplotlib.pyplot as plt\n",
    "from matplotlib.ticker import FormatStrFormatter\n",
    "import numpy as np\n",
    "import pandas as pd\n",
    "import seaborn as sns\n",
    "import sys\n",
    "\n",
    "sys.path += ['../']\n",
    "\n",
    "from config import processed_data_path, raw_data_path, figure_path\n",
    "\n",
    "# Parameters\n",
    "DATA_PATH = raw_data_path\n",
    "FIGURES_PATH = figure_path\n",
    "OUTPUT_PATH = processed_data_path\n",
    "\n",
    "SUBREDDITS = {\n",
    "    'PoliticalCompass': 'PC',\n",
    "    'PoliticalCompassMemes': 'PCM'}\n",
    "\n",
    "# Flairs order for plots:\n",
    "FLAIRS_ORDER = ['LibLeft', 'Left', 'AuthLeft',\n",
    "                'LibCenter', 'Centrist', 'AuthCenter',\n",
    "                'LibRight', 'Right', 'AuthRight']\n",
    "\n",
    "FLAIR_ORDER_SOCIAL = ['Lib', 'Center', 'Auth']\n",
    "FLAIR_ORDER_ECONOMIC = ['Left', 'Center', 'Right']\n",
    "\n",
    "SOCIAL_AXIS = {'AuthLeft': 'Auth',\n",
    "               'AuthCenter': 'Auth',\n",
    "               'AuthRight': 'Auth',\n",
    "               'Left': 'Center',\n",
    "               'Centrist': 'Center',\n",
    "               'Right': 'Center',\n",
    "               'LibLeft': 'Lib',\n",
    "               'LibCenter': 'Lib',\n",
    "               'LibRight': 'Lib'}\n",
    "\n",
    "ECONOMIC_AXIS = {'AuthLeft': 'Left',\n",
    "                 'Left': 'Left',\n",
    "                 'LibLeft': 'Left',\n",
    "                 'AuthCenter': 'Center',\n",
    "                 'Centrist': 'Center',\n",
    "                 'LibCenter': 'Center',\n",
    "                 'LibRight': 'Right',\n",
    "                 'Right': 'Right',\n",
    "                 'AuthRight': 'Right'}\n",
    "\n",
    "# Plots style\n",
    "#plt.style.use('seaborn-v0_8-whitegrid')\n",
    "sns.set_context('talk', rc={'font.size': 14.0,\n",
    "                            'axes.labelsize': 14.0,\n",
    "                            'axes.titlesize': 14.0,\n",
    "                            'xtick.labelsize': 12.0,\n",
    "                            'ytick.labelsize': 12.0,\n",
    "                            'legend.fontsize': 12.0,\n",
    "                            'legend.title_fontsize': 16.0,\n",
    "                            'patch.linewidth': 1.5,\n",
    "                            'font.family': 'serif',\n",
    "                            'font.serif': 'Linux Libertine O',\n",
    "                           }\n",
    "               )\n",
    "\n",
    "PALETTE = {\n",
    "    'social': {\n",
    "        'Lib': 'tab:blue',\n",
    "        'Center': 'tab:orange',\n",
    "        'Auth': 'tab:green'\n",
    "    },\n",
    "    'economic': {\n",
    "        'Left': 'tab:red',\n",
    "        'Center': 'tab:purple',\n",
    "        'Right': 'tab:brown'\n",
    "    }\n",
    "}\n",
    "\n",
    "axes_order = {\n",
    "    'social': FLAIR_ORDER_SOCIAL,\n",
    "    'economic': FLAIR_ORDER_ECONOMIC,\n",
    "    'flair': FLAIRS_ORDER\n",
    "}\n",
    "\n",
    "# Functions\n",
    "def flair_set_clean(x: str) -> str:\n",
    "    \"\"\"\n",
    "    Removes all curly braces, single quotes, and commas from a string.\n",
    "    Args:\n",
    "        x: The string to be cleaned.\n",
    "    Returns:\n",
    "        The cleaned string.\n",
    "    \"\"\"\n",
    "    d = {'{': '',\n",
    "         '}': '',\n",
    "         '\\'': '',\n",
    "         ',': '/'}\n",
    "\n",
    "    for c in list(d.keys()):\n",
    "        x = x.replace(c, d[c])\n",
    "    return x"
   ]
  },
  {
   "cell_type": "code",
   "execution_count": 2,
   "id": "5dedc5aa",
   "metadata": {},
   "outputs": [
    {
     "name": "stdout",
     "output_type": "stream",
     "text": [
      "PoliticalCompass:\n",
      "\tSubmissions loaded ✓\n",
      "\tComments loaded ✓\n",
      "PoliticalCompassMemes:\n",
      "\tSubmissions loaded ✓\n",
      "\tComments loaded ✓\n"
     ]
    }
   ],
   "source": [
    "# Load data\n",
    "submissions_df = {}\n",
    "comments_df = {}\n",
    "\n",
    "for S in SUBREDDITS.keys():\n",
    "    submissions_df[S] = pd.read_csv(DATA_PATH + f\"submissions_anonymized_{SUBREDDITS[S]}\" + \".csv\")\n",
    "    print(f\"{S}:\")\n",
    "    print(f\"\\tSubmissions loaded ✓\")\n",
    "    \n",
    "    comments_df[S] = pd.read_csv(DATA_PATH + f\"comments_anonymized_{SUBREDDITS[S]}\" + \".csv\")\n",
    "    print(f\"\\tComments loaded ✓\")\n",
    "\n",
    "deleted_user = 478679\n",
    "blacklist = joblib.load(DATA_PATH + f\"blacklist_anonymized.joblib\")"
   ]
  },
  {
   "cell_type": "markdown",
   "id": "8ed401cc",
   "metadata": {},
   "source": [
    "## 1. Clean data"
   ]
  },
  {
   "cell_type": "code",
   "execution_count": 3,
   "id": "7d26c0ba",
   "metadata": {},
   "outputs": [
    {
     "name": "stdout",
     "output_type": "stream",
     "text": [
      "PoliticalCompass:\n",
      "\t nan/None removed for 'author_flair_text' (submissions/comments) ✓\n",
      "PoliticalCompassMemes:\n",
      "\t nan/None removed for 'author_flair_text' (submissions/comments) ✓\n"
     ]
    }
   ],
   "source": [
    "# Flairs for PC & PCM\n",
    "flairs_list = {}\n",
    "for S in SUBREDDITS.keys():\n",
    "    flairs_list[S] = list(pd.concat([submissions_df[S], comments_df[S]])['author_flair_text'].unique())\n",
    "    # To remove nan/\"None\" values\n",
    "        # isinstance(x, float) and x != x: return True only if x == nan (nan: float)\n",
    "    flairs_list[S] = [x for x in flairs_list[S] if (~isinstance(x, float) and x == x and x != 'None')]\n",
    "    print(f\"{S}:\")\n",
    "    print(f\"\\t nan/None removed for 'author_flair_text' (submissions/comments) ✓\")"
   ]
  },
  {
   "cell_type": "code",
   "execution_count": 4,
   "id": "f2b528df",
   "metadata": {},
   "outputs": [
    {
     "data": {
      "text/plain": [
       "{'PoliticalCompass': [':libleft: - LibLeft',\n",
       "  ':lib: - LibCenter',\n",
       "  ':authleft: - AuthLeft',\n",
       "  ':auth: - AuthCenter',\n",
       "  ':libright: - LibRight',\n",
       "  ':left: - Left',\n",
       "  ':authright: - AuthRight',\n",
       "  ':right: - Right',\n",
       "  ':centrist: - Centrist',\n",
       "  ':user_flair_PolComp: - /r/PoliticalCompass',\n",
       "  '\\u200e',\n",
       "  'Undecided/Exploring'],\n",
       " 'PoliticalCompassMemes': [':libleft: - LibLeft',\n",
       "  ':libright: - LibRight',\n",
       "  ':centrist: - Centrist',\n",
       "  ':left: - Left',\n",
       "  ':authright: - AuthRight',\n",
       "  ':libright2: - LibRight',\n",
       "  ':lib: - LibCenter',\n",
       "  ':authleft: - AuthLeft',\n",
       "  ':right: - Right',\n",
       "  ':auth: - AuthCenter',\n",
       "  ':CENTG: - Centrist',\n",
       "  ':centrist:BALKAN UNITED:centrist:',\n",
       "  ':contestauthleft: - Chad AuthLeft',\n",
       "  ':authcenterboot: - Chad AuthCenter',\n",
       "  ':crownauthright: - Chad AuthRight',\n",
       "  ':spongebob_flair_3: -  Chad LibLeft',\n",
       "  ':odd_possesion_crown_4: - Chad Centrist',\n",
       "  ':ChadAuthCenterEagleV4: - Chad AuthCenter',\n",
       "  ':PoliticalCompass:',\n",
       "  ':centrist: - Transhumanist',\n",
       "  ':centrist: - Grand Inquisitor']}"
      ]
     },
     "execution_count": 4,
     "metadata": {},
     "output_type": "execute_result"
    }
   ],
   "source": [
    "flairs_list"
   ]
  },
  {
   "cell_type": "code",
   "execution_count": 5,
   "id": "f82faf2e",
   "metadata": {},
   "outputs": [
    {
     "name": "stdout",
     "output_type": "stream",
     "text": [
      "PoliticalCompass:\n",
      "\t flairs cleaned (submissions/comments) ✓\n",
      "\t time data cleaned (submissions/comments) ✓\n",
      "PoliticalCompassMemes:\n",
      "\t flairs cleaned (submissions/comments) ✓\n",
      "\t time data cleaned (submissions/comments) ✓\n"
     ]
    }
   ],
   "source": [
    "# Clean data\n",
    "for S in SUBREDDITS.keys():\n",
    "    # 1. Clean flairs (political opinions)\n",
    "    submissions_df[S]['flair'] = submissions_df[S]['author_flair_text'].str.split('- ').str[1]\n",
    "    comments_df[S]['flair'] = comments_df[S]['author_flair_text'].str.split('- ').str[1]\n",
    "    print(f\"{S}:\")\n",
    "    print(f\"\\t flairs cleaned (submissions/comments) ✓\")\n",
    "    \n",
    "    # 2. Date-time\n",
    "    # Submissions\n",
    "    date_time = submissions_df[S]['created_utc'].apply(datetime.datetime.fromtimestamp)\n",
    "    submissions_df[S]['date_time'] = date_time\n",
    "    submissions_df[S]['date_time'] = pd.to_datetime(submissions_df[S]['date_time']).dt.date\n",
    "    # For the plots\n",
    "    submissions_df[S]['date_time'] = pd.to_datetime(submissions_df[S]['date_time'], errors='coerce')\n",
    "    submissions_df[S]['year'] = submissions_df[S]['date_time'].dt.year.rename('year')\n",
    "    \n",
    "    # Comments\n",
    "    date_time = comments_df[S]['created_utc'].apply(datetime.datetime.fromtimestamp)\n",
    "    comments_df[S]['date_time'] = date_time\n",
    "    comments_df[S]['date_time'] = pd.to_datetime(comments_df[S]['date_time']).dt.date\n",
    "    # For the plots\n",
    "    comments_df[S]['date_time'] = pd.to_datetime(comments_df[S]['date_time'], errors='coerce')\n",
    "    comments_df[S]['year'] = comments_df[S]['date_time'].dt.year.rename('year')\n",
    "    print(f\"\\t time data cleaned (submissions/comments) ✓\")"
   ]
  },
  {
   "cell_type": "markdown",
   "id": "17282ea7",
   "metadata": {},
   "source": [
    "## 2. Select time period for analysis: 2020-2022"
   ]
  },
  {
   "cell_type": "code",
   "execution_count": 6,
   "id": "a2ea64aa",
   "metadata": {},
   "outputs": [
    {
     "data": {
      "image/png": "[encoded data removed]",
      "text/plain": [
       "<Figure size 640x480 with 4 Axes>"
      ]
     },
     "metadata": {},
     "output_type": "display_data"
    }
   ],
   "source": [
    "# Posts number by:\n",
    "    # 1. Total users\n",
    "    # 2. Users with flair\n",
    "    \n",
    "fig = plt.figure(layout='constrained')\n",
    "ax = fig.subplot_mosaic('''\n",
    "AB\n",
    "CD\n",
    "''', sharex=True)\n",
    "\n",
    "plot_order = {\n",
    "    'PoliticalCompass': ('A', 'B'),\n",
    "    'PoliticalCompassMemes': ('C', 'D')\n",
    "}\n",
    "\n",
    "for S in SUBREDDITS.keys():\n",
    "    submissions_df[S]['with_flair'] = ~(submissions_df[S].flair.isna().values)\n",
    "    comments_df[S]['with_flair'] = ~(comments_df[S].flair.isna().values)\n",
    "    \n",
    "    # Submissions\n",
    "    sns.histplot(data=submissions_df[S][submissions_df[S].year >= 2018],\n",
    "                 x='year',\n",
    "                 hue='with_flair',\n",
    "                 multiple='stack',\n",
    "                 ax=ax[plot_order[S][0]],\n",
    "                 zorder=3,\n",
    "                 alpha=.7,\n",
    "                 discrete=True)\n",
    "    # Comments\n",
    "    sns.histplot(data=comments_df[S][comments_df[S].year >= 2018],\n",
    "                 x='year',\n",
    "                 hue='with_flair',\n",
    "                 multiple='stack',\n",
    "                 ax=ax[plot_order[S][1]],\n",
    "                 zorder=3,\n",
    "                 alpha=.7,\n",
    "                 discrete=True)\n",
    "    \n",
    "    sns.despine(right=True)\n",
    "    \n",
    "    for idx in [0, 1]:\n",
    "        ax[plot_order[S][idx]].set_xlabel('')\n",
    "        ax[plot_order[S][idx]].set_ylabel('')\n",
    "\n",
    "        ax[plot_order[S][idx]].get_legend().remove()\n",
    "        ax[plot_order[S][idx]].tick_params(axis='x', labelrotation=30)\n",
    "        ax[plot_order[S][idx]].xaxis.set_major_locator(mpl.ticker.MaxNLocator(integer=True))\n",
    "        ax[plot_order[S][idx]].ticklabel_format(axis='y', scilimits=(0,0))\n",
    "\n",
    "ax['A'].set_title('/r/PC',weight='bold')\n",
    "ax['A'].set_ylabel(r'$N_{sub}$')\n",
    "ax['A'].tick_params(bottom=False)\n",
    "ax['B'].set_title('/r/PCM',weight='bold')\n",
    "ax['B'].tick_params(bottom=False)\n",
    "ax['C'].set_ylabel(r'$N_{com}$')\n",
    "ax['C'].set_xlabel(r'year')\n",
    "ax['D'].set_xlabel(r'year')\n",
    "ax['D'].legend(['with flair', 'without flair'], framealpha=0,\n",
    "               bbox_to_anchor =(2.0,-0.10),\n",
    "               loc='lower right')\n",
    "\n",
    "fig.savefig(FIGURES_PATH + \"0_1_submissions_comments_in_time.pdf\", bbox_inches='tight')\n",
    "plt.show()"
   ]
  },
  {
   "cell_type": "code",
   "execution_count": 7,
   "id": "892a50c9",
   "metadata": {},
   "outputs": [],
   "source": [
    "# Select years 2020-2022 for submissions/comments\n",
    "selected_submissions_df = {}\n",
    "selected_comments_df = {}\n",
    "\n",
    "for S in SUBREDDITS.keys():\n",
    "    selected_submissions_df[S] = submissions_df[S][submissions_df[S]['year'].isin({2020, 2021, 2022})]\n",
    "    selected_comments_df[S] = comments_df[S][comments_df[S]['year'].isin({2020, 2021, 2022})]"
   ]
  },
  {
   "cell_type": "code",
   "execution_count": 8,
   "id": "5f805a6c",
   "metadata": {},
   "outputs": [
    {
     "name": "stdout",
     "output_type": "stream",
     "text": [
      "PoliticalCompass:\n",
      " Sub number for time period 2020-2022: 79368 (94.77%)\n",
      " Com number for time period 2020-2022:  952550 (96.32%)\n",
      "\n",
      "PoliticalCompassMemes:\n",
      " Sub number for time period 2020-2022: 383169 (96.14%)\n",
      " Com number for time period 2020-2022:  22653346 (98.12%)\n",
      "\n"
     ]
    }
   ],
   "source": [
    "for S in SUBREDDITS.keys():\n",
    "    print(S + \":\\n\",\n",
    "          \"Sub number for time period 2020-2022: \"\n",
    "          f\"{len(selected_submissions_df[S])}\",\n",
    "          f\"({round(100 * len(selected_submissions_df[S]) / len(submissions_df[S]), 2)}%)\\n\",\n",
    "          \n",
    "          \"Com number for time period 2020-2022: \", \n",
    "          f\"{len(selected_comments_df[S])}\",\n",
    "          f\"({round(100 * len(selected_comments_df[S]) / len(comments_df[S]), 2)}%)\\n\")"
   ]
  },
  {
   "cell_type": "markdown",
   "id": "5256867f",
   "metadata": {},
   "source": [
    "## 3. Users with single & multiple flair: some numbers"
   ]
  },
  {
   "cell_type": "code",
   "execution_count": 9,
   "id": "b5474bb8",
   "metadata": {},
   "outputs": [],
   "source": [
    "# Select submissions/comments by users with political opinion flairs\n",
    "flaired_submissions_df = {}\n",
    "flaired_comments_df = {}\n",
    "\n",
    "for S in SUBREDDITS.keys():\n",
    "    flaired_submissions_df[S] = selected_submissions_df[S][(selected_submissions_df[S]['flair']\n",
    "                                                            .isin(FLAIRS_ORDER)) & \\\n",
    "                                                           (~selected_submissions_df[S]['author']\n",
    "                                                            .isin(blacklist))]\n",
    "    flaired_comments_df[S] = selected_comments_df[S][(selected_comments_df[S]['flair']\n",
    "                                                      .isin(FLAIRS_ORDER)) & \\\n",
    "                                                     (~selected_comments_df[S]['author']\n",
    "                                                      .isin(blacklist))]"
   ]
  },
  {
   "cell_type": "code",
   "execution_count": 10,
   "id": "438c2c05",
   "metadata": {},
   "outputs": [
    {
     "name": "stderr",
     "output_type": "stream",
     "text": [
      "/tmp/ipykernel_1230244/1386599923.py:9: DeprecationWarning: DataFrameGroupBy.apply operated on the grouping columns. This behavior is deprecated, and in a future version of pandas the grouping columns will be excluded from the operation. Either pass `include_groups=False` to exclude the groupings or explicitly select the grouping columns after groupby to silence this warning.\n",
      "  .apply(lambda x: set(x['flair'].tolist()))\n",
      "/tmp/ipykernel_1230244/1386599923.py:9: DeprecationWarning: DataFrameGroupBy.apply operated on the grouping columns. This behavior is deprecated, and in a future version of pandas the grouping columns will be excluded from the operation. Either pass `include_groups=False` to exclude the groupings or explicitly select the grouping columns after groupby to silence this warning.\n",
      "  .apply(lambda x: set(x['flair'].tolist()))\n"
     ]
    }
   ],
   "source": [
    "# Users with single and multiple flairs\n",
    "users_df = {}\n",
    "single_flair_users_df = {}\n",
    "multiple_flair_users_df = {}\n",
    "\n",
    "for S in SUBREDDITS.keys():\n",
    "    users_df[S] = (pd.DataFrame(pd.concat([flaired_submissions_df[S], flaired_comments_df[S]])\n",
    "                                .groupby('author')\n",
    "                                .apply(lambda x: set(x['flair'].tolist()))\n",
    "                                .reset_index()\n",
    "                                .rename(columns={0: 'flair_set'})))\n",
    "    users_df[S]['flair_count'] = users_df[S]['flair_set'].apply(lambda x: len(x))\n",
    "    \n",
    "    single_flair_users_df[S] = users_df[S][users_df[S]['flair_count'] == 1].reset_index(drop=True)\n",
    "    single_flair_users_df[S]['flair'] = single_flair_users_df[S]['flair_set'].apply(lambda x: x.pop())\n",
    "    single_flair_users_df[S] = single_flair_users_df[S].drop(columns=['flair_set', 'flair_count'])\n",
    "    \n",
    "    multiple_flair_users_df[S] = users_df[S][users_df[S]['flair_count'] > 1].reset_index(drop=True)\n",
    "    multiple_flair_users_df[S] = multiple_flair_users_df[S].drop(columns=['flair_count'])"
   ]
  },
  {
   "cell_type": "code",
   "execution_count": 11,
   "id": "5e1de482",
   "metadata": {},
   "outputs": [
    {
     "name": "stdout",
     "output_type": "stream",
     "text": [
      "PoliticalCompass (users with political flair):\n",
      " Users with single flair:  22503 (89.84%)\n",
      " Users with multiple flairs:  2544 (10.16%)\n",
      "\n",
      "PoliticalCompassMemes (users with political flair):\n",
      " Users with single flair:  258428 (89.39%)\n",
      " Users with multiple flairs:  30658 (10.61%)\n",
      "\n"
     ]
    }
   ],
   "source": [
    "for S in SUBREDDITS.keys():\n",
    "    print(f\"{S} (users with political flair):\\n\",\n",
    "          \"Users with single flair: \",\n",
    "          len(single_flair_users_df[S]), f\"({round(100 * len(single_flair_users_df[S]) / len(users_df[S]), 2)}%)\\n\",\n",
    "          \"Users with multiple flairs: \",\n",
    "          len(multiple_flair_users_df[S]), f\"({round(100 * len(multiple_flair_users_df[S]) / len(users_df[S]), 2)}%)\\n\",\n",
    "         )"
   ]
  },
  {
   "cell_type": "markdown",
   "id": "e9e40851",
   "metadata": {},
   "source": [
    "### Type of users: some numbers for submissions/comments (Table A.1)"
   ]
  },
  {
   "cell_type": "code",
   "execution_count": 12,
   "id": "4f14f3a7",
   "metadata": {},
   "outputs": [
    {
     "name": "stdout",
     "output_type": "stream",
     "text": [
      "PoliticalCompass:\n",
      " Sub by deleted-accounts: 27556 (34.72%) \n",
      " Sub by bots: 198 (0.25%) \n",
      " Sub by accounts with non-unique political flairs: 22552 (28.41%) \n",
      " Sub by accounts with unique political flairs: 29062 (36.62%) \n",
      "\n",
      " Com by deleted-accounts: 90363 (9.49%) \n",
      " Com by bots: 5750 (0.6%) \n",
      " Com by accounts with non-unique political flairs: 293672 (30.83%) \n",
      " Com by accounts with unique political flairs: 562765 (59.08%) \n",
      "\n",
      "\n",
      "PoliticalCompassMemes:\n",
      " Sub by deleted-accounts: 115906 (30.25%) \n",
      " Sub by bots: 2781 (0.73%) \n",
      " Sub by accounts with non-unique political flairs: 84234 (21.98%) \n",
      " Sub by accounts with unique political flairs: 180248 (47.04%) \n",
      "\n",
      " Com by deleted-accounts: 2450160 (10.82%) \n",
      " Com by bots: 582101 (2.57%) \n",
      " Com by accounts with non-unique political flairs: 5048273 (22.28%) \n",
      " Com by accounts with unique political flairs: 14572812 (64.33%) \n",
      "\n",
      "\n"
     ]
    }
   ],
   "source": [
    "for S in SUBREDDITS.keys():\n",
    "    print(S + \":\\n\",\n",
    "          \"Sub by deleted-accounts:\",\n",
    "          f\"{sum((~selected_submissions_df[S].author.isin(set(single_flair_users_df[S].author))) & (selected_submissions_df[S].author == deleted_user))}\",\n",
    "          f\"({round(100 * sum((~selected_submissions_df[S].author.isin(set(single_flair_users_df[S].author))) & (selected_submissions_df[S].author == deleted_user)) / len(selected_submissions_df[S]), 2)}%)\",\n",
    "          \"\\n\",\n",
    "          \"Sub by bots:\",\n",
    "          f\"{sum((~selected_submissions_df[S].author.isin(set(single_flair_users_df[S].author))) & (selected_submissions_df[S].author.isin(blacklist)) & (selected_submissions_df[S].author != deleted_user))}\",\n",
    "          f\"({round(100 * sum((~selected_submissions_df[S].author.isin(set(single_flair_users_df[S].author))) & (selected_submissions_df[S].author.isin(blacklist)) & (selected_submissions_df[S].author != deleted_user)) / len(selected_submissions_df[S]), 2)}%)\",\n",
    "          \"\\n\",\n",
    "          \"Sub by accounts with non-unique political flairs:\",\n",
    "          f\"{sum((~selected_submissions_df[S].author.isin(set(single_flair_users_df[S].author))) & (~selected_submissions_df[S].author.isin(blacklist)) & ((selected_submissions_df[S].author.isin(set(multiple_flair_users_df[S].author))) | (~selected_submissions_df[S].flair.isin(FLAIRS_ORDER))))}\",\n",
    "          f\"({round(100 * sum((~selected_submissions_df[S].author.isin(set(single_flair_users_df[S].author))) & (~selected_submissions_df[S].author.isin(blacklist)) & ((selected_submissions_df[S].author.isin(set(multiple_flair_users_df[S].author))) | (~selected_submissions_df[S].flair.isin(FLAIRS_ORDER)))) / len(selected_submissions_df[S]), 2)}%)\",\n",
    "          \"\\n\",\n",
    "          \"Sub by accounts with unique political flairs:\",\n",
    "          f\"{sum(selected_submissions_df[S].author.isin(set(single_flair_users_df[S].author)))}\",\n",
    "          f\"({round(100 * sum(selected_submissions_df[S].author.isin(set(single_flair_users_df[S].author))) / len(selected_submissions_df[S]), 2)}%)\",\n",
    "          \"\\n\\n\",\n",
    "          \n",
    "          \"Com by deleted-accounts:\",\n",
    "          f\"{sum((~selected_comments_df[S].author.isin(set(single_flair_users_df[S].author))) & (selected_comments_df[S].author == deleted_user))}\",\n",
    "          f\"({round(100 * sum((~selected_comments_df[S].author.isin(set(single_flair_users_df[S].author))) & (selected_comments_df[S].author == deleted_user)) / len(selected_comments_df[S]), 2)}%)\",\n",
    "          \"\\n\",\n",
    "          \"Com by bots:\",\n",
    "          f\"{sum((~selected_comments_df[S].author.isin(set(single_flair_users_df[S].author))) & (selected_comments_df[S].author.isin(blacklist)) & (selected_comments_df[S].author != deleted_user))}\",\n",
    "          f\"({round(100 * sum((~selected_comments_df[S].author.isin(set(single_flair_users_df[S].author))) & (selected_comments_df[S].author.isin(blacklist)) & (selected_comments_df[S].author != deleted_user)) / len(selected_comments_df[S]), 2)}%)\",\n",
    "          \"\\n\",\n",
    "          \"Com by accounts with non-unique political flairs:\",\n",
    "          f\"{sum((~selected_comments_df[S].author.isin(set(single_flair_users_df[S].author))) & (~selected_comments_df[S].author.isin(blacklist)) & ((selected_comments_df[S].author.isin(set(multiple_flair_users_df[S].author))) | (~selected_comments_df[S].flair.isin(FLAIRS_ORDER))))}\",\n",
    "          f\"({round(100 * sum((~selected_comments_df[S].author.isin(set(single_flair_users_df[S].author))) & (~selected_comments_df[S].author.isin(blacklist)) & ((selected_comments_df[S].author.isin(set(multiple_flair_users_df[S].author))) | (~selected_comments_df[S].flair.isin(FLAIRS_ORDER)))) / len(selected_comments_df[S]), 2)}%)\",\n",
    "          \"\\n\",\n",
    "          \"Com by accounts with unique political flairs:\",\n",
    "          f\"{sum(selected_comments_df[S].author.isin(set(single_flair_users_df[S].author)))}\",\n",
    "          f\"({round(100 * sum(selected_comments_df[S].author.isin(set(single_flair_users_df[S].author))) / len(selected_comments_df[S]), 2)}%)\",\n",
    "          \"\\n\\n\"\n",
    "         )"
   ]
  },
  {
   "cell_type": "code",
   "execution_count": 13,
   "id": "95c7fb7d",
   "metadata": {},
   "outputs": [
    {
     "name": "stdout",
     "output_type": "stream",
     "text": [
      "PoliticalCompass:\n",
      " Sub by users with single flair:  26119 (72.23%)\n",
      " Sub by users with multiple flairs:  10040 (27.77%)\n",
      "\n",
      " Com by users with single flair:  498139 (73.0%)\n",
      " Com by users with multiple flairs:  184206 (27.0%)\n",
      "\n",
      "\n",
      "PoliticalCompassMemes:\n",
      " Sub by users with single flair:  179119 (71.25%)\n",
      " Sub by users with multiple flairs:  72280 (28.75%)\n",
      "\n",
      " Com by users with single flair:  14509574 (75.7%)\n",
      " Com by users with multiple flairs:  4657814 (24.3%)\n",
      "\n",
      "\n"
     ]
    }
   ],
   "source": [
    "for S in SUBREDDITS.keys():\n",
    "    print(S + \":\\n\",\n",
    "          \"Sub by users with single flair: \",\n",
    "          f\"{sum(flaired_submissions_df[S]['author'].isin(set(single_flair_users_df[S]['author'])))}\",\n",
    "          f\"({round(100 * sum(flaired_submissions_df[S]['author'].isin(set(single_flair_users_df[S]['author']))) / len(flaired_submissions_df[S]), 2)}%)\\n\",\n",
    "          \"Sub by users with multiple flairs: \",\n",
    "          f\"{sum(flaired_submissions_df[S]['author'].isin(set(multiple_flair_users_df[S]['author'])))}\",\n",
    "          f\"({round(100 * sum(flaired_submissions_df[S]['author'].isin(set(multiple_flair_users_df[S]['author']))) / len(flaired_submissions_df[S]), 2)}%)\\n\\n\",\n",
    "          \"Com by users with single flair: \",\n",
    "          f\"{sum(flaired_comments_df[S]['author'].isin(set(single_flair_users_df[S]['author'])))}\",\n",
    "          f\"({round(100 * sum(flaired_comments_df[S]['author'].isin(set(single_flair_users_df[S]['author']))) / len(flaired_comments_df[S]), 2)}%)\\n\",\n",
    "          \"Com by users with multiple flairs: \",\n",
    "          f\"{sum(flaired_comments_df[S]['author'].isin(set(multiple_flair_users_df[S]['author'])))}\",\n",
    "          f\"({round(100 * sum(flaired_comments_df[S]['author'].isin(set(multiple_flair_users_df[S]['author']))) / len(flaired_comments_df[S]), 2)}%)\\n\\n\",\n",
    "         )"
   ]
  },
  {
   "cell_type": "markdown",
   "id": "7d72c770",
   "metadata": {},
   "source": [
    "## 5. Community analysis\n",
    "### Users & post/comments by flairs"
   ]
  },
  {
   "cell_type": "code",
   "execution_count": 14,
   "id": "0ec967ef",
   "metadata": {},
   "outputs": [
    {
     "name": "stdout",
     "output_type": "stream",
     "text": [
      "PoliticalCompass:\n",
      "\t total submissions, submissions by single flair users:  36159 , 26119\n",
      "\t total comments, comments by single flair users:  682345 , 498139\n",
      "\t\t get submissions by users with single flair ✓\n",
      "\t\t get comments by users with single flair ✓\n",
      "PoliticalCompassMemes:\n",
      "\t total submissions, submissions by single flair users:  251399 , 179119\n",
      "\t total comments, comments by single flair users:  19167388 , 14509574\n",
      "\t\t get submissions by users with single flair ✓\n",
      "\t\t get comments by users with single flair ✓\n"
     ]
    }
   ],
   "source": [
    "single_flair_submissions_df = {}\n",
    "single_flair_comments_df = {}\n",
    "\n",
    "for S in SUBREDDITS.keys():\n",
    "    print(f\"{S}:\")\n",
    "    print(f\"\\t total submissions, submissions by single flair users: \",\n",
    "          flaired_submissions_df[S].author.count(), \",\",\n",
    "          (flaired_submissions_df[S][flaired_submissions_df[S]\n",
    "                                      .author.isin(single_flair_users_df[S]\n",
    "                                                   .author.values)].author.count())\n",
    "         )\n",
    "    print(f\"\\t total comments, comments by single flair users: \",\n",
    "          flaired_comments_df[S].author.count(), \",\",\n",
    "          (flaired_comments_df[S][flaired_comments_df[S]\n",
    "                                   .author.isin(single_flair_users_df[S]\n",
    "                                                .author.values)].author.count())\n",
    "         )\n",
    "    \n",
    "    single_flair_submissions_df[S] = (flaired_submissions_df[S][flaired_submissions_df[S]\n",
    "                                                             .author.isin(single_flair_users_df[S]\n",
    "                                                                          .author.values)])\n",
    "    print(f\"\\t\\t get submissions by users with single flair ✓\")\n",
    "    single_flair_comments_df[S] = (flaired_comments_df[S][flaired_comments_df[S]\n",
    "                                                       .author.isin(single_flair_users_df[S]\n",
    "                                                                    .author.values)])\n",
    "    print(f\"\\t\\t get comments by users with single flair ✓\")"
   ]
  },
  {
   "cell_type": "code",
   "execution_count": 15,
   "id": "13fd6a55",
   "metadata": {},
   "outputs": [],
   "source": [
    "for S in SUBREDDITS.keys():\n",
    "    single_flair_users_df[S]['social'] = single_flair_users_df[S].flair.map(SOCIAL_AXIS.get).values\n",
    "    single_flair_users_df[S]['economic'] = single_flair_users_df[S].flair.map(ECONOMIC_AXIS.get).values"
   ]
  },
  {
   "cell_type": "code",
   "execution_count": 16,
   "id": "3b931788",
   "metadata": {
    "scrolled": true
   },
   "outputs": [
    {
     "name": "stdout",
     "output_type": "stream",
     "text": [
      "PoliticalCompass:\n",
      "\t get social/economic for submissions ✓\n"
     ]
    },
    {
     "name": "stderr",
     "output_type": "stream",
     "text": [
      "/tmp/ipykernel_1230244/2893948102.py:2: SettingWithCopyWarning: \n",
      "A value is trying to be set on a copy of a slice from a DataFrame.\n",
      "Try using .loc[row_indexer,col_indexer] = value instead\n",
      "\n",
      "See the caveats in the documentation: https://pandas.pydata.org/pandas-docs/stable/user_guide/indexing.html#returning-a-view-versus-a-copy\n",
      "  single_flair_submissions_df[S]['social'] = single_flair_submissions_df[S].flair.map(SOCIAL_AXIS.get).values\n",
      "/tmp/ipykernel_1230244/2893948102.py:3: SettingWithCopyWarning: \n",
      "A value is trying to be set on a copy of a slice from a DataFrame.\n",
      "Try using .loc[row_indexer,col_indexer] = value instead\n",
      "\n",
      "See the caveats in the documentation: https://pandas.pydata.org/pandas-docs/stable/user_guide/indexing.html#returning-a-view-versus-a-copy\n",
      "  single_flair_submissions_df[S]['economic'] = single_flair_submissions_df[S].flair.map(ECONOMIC_AXIS.get).values\n",
      "/tmp/ipykernel_1230244/2893948102.py:7: SettingWithCopyWarning: \n",
      "A value is trying to be set on a copy of a slice from a DataFrame.\n",
      "Try using .loc[row_indexer,col_indexer] = value instead\n",
      "\n",
      "See the caveats in the documentation: https://pandas.pydata.org/pandas-docs/stable/user_guide/indexing.html#returning-a-view-versus-a-copy\n",
      "  single_flair_comments_df[S]['social'] = single_flair_comments_df[S].flair.map(SOCIAL_AXIS.get).values\n",
      "/tmp/ipykernel_1230244/2893948102.py:8: SettingWithCopyWarning: \n",
      "A value is trying to be set on a copy of a slice from a DataFrame.\n",
      "Try using .loc[row_indexer,col_indexer] = value instead\n",
      "\n",
      "See the caveats in the documentation: https://pandas.pydata.org/pandas-docs/stable/user_guide/indexing.html#returning-a-view-versus-a-copy\n",
      "  single_flair_comments_df[S]['economic'] = single_flair_comments_df[S].flair.map(ECONOMIC_AXIS.get).values\n",
      "/tmp/ipykernel_1230244/2893948102.py:2: SettingWithCopyWarning: \n",
      "A value is trying to be set on a copy of a slice from a DataFrame.\n",
      "Try using .loc[row_indexer,col_indexer] = value instead\n",
      "\n",
      "See the caveats in the documentation: https://pandas.pydata.org/pandas-docs/stable/user_guide/indexing.html#returning-a-view-versus-a-copy\n",
      "  single_flair_submissions_df[S]['social'] = single_flair_submissions_df[S].flair.map(SOCIAL_AXIS.get).values\n",
      "/tmp/ipykernel_1230244/2893948102.py:3: SettingWithCopyWarning: \n",
      "A value is trying to be set on a copy of a slice from a DataFrame.\n",
      "Try using .loc[row_indexer,col_indexer] = value instead\n",
      "\n",
      "See the caveats in the documentation: https://pandas.pydata.org/pandas-docs/stable/user_guide/indexing.html#returning-a-view-versus-a-copy\n",
      "  single_flair_submissions_df[S]['economic'] = single_flair_submissions_df[S].flair.map(ECONOMIC_AXIS.get).values\n"
     ]
    },
    {
     "name": "stdout",
     "output_type": "stream",
     "text": [
      "\t get social/economic for comments ✓\n",
      "PoliticalCompassMemes:\n",
      "\t get social/economic for submissions ✓\n"
     ]
    },
    {
     "name": "stderr",
     "output_type": "stream",
     "text": [
      "/tmp/ipykernel_1230244/2893948102.py:7: SettingWithCopyWarning: \n",
      "A value is trying to be set on a copy of a slice from a DataFrame.\n",
      "Try using .loc[row_indexer,col_indexer] = value instead\n",
      "\n",
      "See the caveats in the documentation: https://pandas.pydata.org/pandas-docs/stable/user_guide/indexing.html#returning-a-view-versus-a-copy\n",
      "  single_flair_comments_df[S]['social'] = single_flair_comments_df[S].flair.map(SOCIAL_AXIS.get).values\n"
     ]
    },
    {
     "name": "stdout",
     "output_type": "stream",
     "text": [
      "\t get social/economic for comments ✓\n"
     ]
    },
    {
     "name": "stderr",
     "output_type": "stream",
     "text": [
      "/tmp/ipykernel_1230244/2893948102.py:8: SettingWithCopyWarning: \n",
      "A value is trying to be set on a copy of a slice from a DataFrame.\n",
      "Try using .loc[row_indexer,col_indexer] = value instead\n",
      "\n",
      "See the caveats in the documentation: https://pandas.pydata.org/pandas-docs/stable/user_guide/indexing.html#returning-a-view-versus-a-copy\n",
      "  single_flair_comments_df[S]['economic'] = single_flair_comments_df[S].flair.map(ECONOMIC_AXIS.get).values\n"
     ]
    }
   ],
   "source": [
    "for S in SUBREDDITS.keys():\n",
    "    single_flair_submissions_df[S]['social'] = single_flair_submissions_df[S].flair.map(SOCIAL_AXIS.get).values\n",
    "    single_flair_submissions_df[S]['economic'] = single_flair_submissions_df[S].flair.map(ECONOMIC_AXIS.get).values\n",
    "    print(f\"{S}:\")\n",
    "    print(f\"\\t get social/economic for submissions ✓\")\n",
    "    \n",
    "    single_flair_comments_df[S]['social'] = single_flair_comments_df[S].flair.map(SOCIAL_AXIS.get).values\n",
    "    single_flair_comments_df[S]['economic'] = single_flair_comments_df[S].flair.map(ECONOMIC_AXIS.get).values\n",
    "    print(f\"\\t get social/economic for comments ✓\")"
   ]
  },
  {
   "cell_type": "markdown",
   "id": "cc086070",
   "metadata": {},
   "source": [
    "#### Summary numbers by flair"
   ]
  },
  {
   "cell_type": "code",
   "execution_count": 17,
   "id": "e8bc7214",
   "metadata": {},
   "outputs": [
    {
     "name": "stderr",
     "output_type": "stream",
     "text": [
      "/tmp/ipykernel_1230244/966324204.py:28: FutureWarning: \n",
      "\n",
      "Passing `palette` without assigning `hue` is deprecated and will be removed in v0.14.0. Assign the `x` variable to `hue` and set `legend=False` for the same effect.\n",
      "\n",
      "  sns.barplot(data=(summary_numbers_df[p]\n",
      "/tmp/ipykernel_1230244/966324204.py:28: FutureWarning: \n",
      "\n",
      "Passing `palette` without assigning `hue` is deprecated and will be removed in v0.14.0. Assign the `x` variable to `hue` and set `legend=False` for the same effect.\n",
      "\n",
      "  sns.barplot(data=(summary_numbers_df[p]\n",
      "/tmp/ipykernel_1230244/966324204.py:28: FutureWarning: \n",
      "\n",
      "Passing `palette` without assigning `hue` is deprecated and will be removed in v0.14.0. Assign the `x` variable to `hue` and set `legend=False` for the same effect.\n",
      "\n",
      "  sns.barplot(data=(summary_numbers_df[p]\n",
      "/tmp/ipykernel_1230244/966324204.py:28: FutureWarning: \n",
      "\n",
      "Passing `palette` without assigning `hue` is deprecated and will be removed in v0.14.0. Assign the `x` variable to `hue` and set `legend=False` for the same effect.\n",
      "\n",
      "  sns.barplot(data=(summary_numbers_df[p]\n"
     ]
    },
    {
     "data": {
      "image/png": "[encoded data removed]",
      "text/plain": [
       "<Figure size 640x480 with 4 Axes>"
      ]
     },
     "metadata": {},
     "output_type": "display_data"
    },
    {
     "name": "stderr",
     "output_type": "stream",
     "text": [
      "/tmp/ipykernel_1230244/966324204.py:28: FutureWarning: \n",
      "\n",
      "Passing `palette` without assigning `hue` is deprecated and will be removed in v0.14.0. Assign the `x` variable to `hue` and set `legend=False` for the same effect.\n",
      "\n",
      "  sns.barplot(data=(summary_numbers_df[p]\n",
      "/tmp/ipykernel_1230244/966324204.py:28: FutureWarning: \n",
      "\n",
      "Passing `palette` without assigning `hue` is deprecated and will be removed in v0.14.0. Assign the `x` variable to `hue` and set `legend=False` for the same effect.\n",
      "\n",
      "  sns.barplot(data=(summary_numbers_df[p]\n",
      "/tmp/ipykernel_1230244/966324204.py:28: FutureWarning: \n",
      "\n",
      "Passing `palette` without assigning `hue` is deprecated and will be removed in v0.14.0. Assign the `x` variable to `hue` and set `legend=False` for the same effect.\n",
      "\n",
      "  sns.barplot(data=(summary_numbers_df[p]\n",
      "/tmp/ipykernel_1230244/966324204.py:28: FutureWarning: \n",
      "\n",
      "Passing `palette` without assigning `hue` is deprecated and will be removed in v0.14.0. Assign the `x` variable to `hue` and set `legend=False` for the same effect.\n",
      "\n",
      "  sns.barplot(data=(summary_numbers_df[p]\n"
     ]
    },
    {
     "data": {
      "image/png": "[encoded data removed]",
      "text/plain": [
       "<Figure size 640x480 with 4 Axes>"
      ]
     },
     "metadata": {},
     "output_type": "display_data"
    }
   ],
   "source": [
    "summary_params = {\n",
    "    'users': ('author', r'$N_{users}$'),\n",
    "    'comments': ('author', r'$N_{comments}$')\n",
    "}\n",
    "\n",
    "for S in SUBREDDITS.keys():\n",
    "    fig = plt.figure()#layout='tight')#, figsize=(5,5))\n",
    "    ax = fig.subplot_mosaic('''\n",
    "    AB\n",
    "    EF\n",
    "    ''')\n",
    "\n",
    "    plot_order = {\n",
    "        ('social', 'users'): 'A',\n",
    "        ('economic', 'users'): 'B',\n",
    "        ('social', 'comments'): 'E',\n",
    "        ('economic', 'comments'): 'F',\n",
    "    }\n",
    "\n",
    "    summary_numbers_df = {\n",
    "        'users': single_flair_users_df[S],\n",
    "        'posts': single_flair_submissions_df[S],\n",
    "        'comments': single_flair_comments_df[S],\n",
    "    }\n",
    "\n",
    "    for axis in ['social', 'economic']:\n",
    "        for p in ['users', 'comments']:#'posts', 'comments']:\n",
    "            sns.barplot(data=(summary_numbers_df[p]\n",
    "                              .groupby(axis)\n",
    "                              [summary_params[p][0]].count().reset_index()),\n",
    "                        y=summary_params[p][0], x=axis,\n",
    "                        ax=ax[plot_order[(axis,p)]],\n",
    "                        alpha=0.7,\n",
    "                        order=axes_order[axis],\n",
    "                        palette=PALETTE[axis],\n",
    "                        edgecolor='k'\n",
    "                       )\n",
    "            ax[plot_order[(axis,p)]].set_xlabel('')\n",
    "            ax[plot_order[(axis,p)]].set_ylabel('')\n",
    "            ax[plot_order[(axis,p)]].tick_params(left=False, labelleft=False, bottom=False, labelbottom=False)\n",
    "            sns.despine(right=True)\n",
    "\n",
    "            if p == 'users':\n",
    "                ax[plot_order[(axis,p)]].set_title(axis, weight='bold')\n",
    "            if p == 'comments':\n",
    "                ax[plot_order[(axis,p)]].tick_params(bottom=True, labelbottom=True)\n",
    "            \n",
    "            if axis == 'social':\n",
    "                ax[plot_order[(axis,p)]].tick_params(left=True, labelleft=True)\n",
    "                ax[plot_order[(axis,p)]].ticklabel_format(axis='y', style='sci', scilimits=(0,0))\n",
    "                ax[plot_order[(axis,p)]].set_ylabel(summary_params[p][1])                \n",
    "\n",
    "    ax['B'].sharey(ax['A'])\n",
    "    ax['F'].sharey(ax['E'])\n",
    "    sns.despine(ax=ax['B'], left=True)\n",
    "    sns.despine(ax=ax['F'], left=True)\n",
    "    \n",
    "    plt.subplots_adjust(wspace=0.5)\n",
    "    \n",
    "    plt.savefig(FIGURES_PATH + f\"0_1_users_comments_by_ideologies_{SUBREDDITS[S]}.pdf\", bbox_inches='tight')\n",
    "    plt.show()"
   ]
  },
  {
   "cell_type": "markdown",
   "id": "7152ab25",
   "metadata": {},
   "source": [
    "## 6. Save data"
   ]
  },
  {
   "cell_type": "code",
   "execution_count": 18,
   "id": "26975cec",
   "metadata": {},
   "outputs": [],
   "source": [
    "for S in SUBREDDITS.keys():\n",
    "    # Save users with single flair\n",
    "   single_flair_users_df[S].to_csv(OUTPUT_PATH + f\"single_flair_anonymized_users_{SUBREDDITS[S]}.csv\",\n",
    "                                   index=False, header=True)"
   ]
  }
 ],
 "metadata": {
  "kernelspec": {
   "display_name": "Python 3 (ipykernel)",
   "language": "python",
   "name": "python3"
  },
  "language_info": {
   "codemirror_mode": {
    "name": "ipython",
    "version": 3
   },
   "file_extension": ".py",
   "mimetype": "text/x-python",
   "name": "python",
   "nbconvert_exporter": "python",
   "pygments_lexer": "ipython3",
   "version": "3.10.13"
  }
 },
 "nbformat": 4,
 "nbformat_minor": 5
}
